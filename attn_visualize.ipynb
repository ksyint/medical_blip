{
 "cells": [
  {
   "cell_type": "code",
   "execution_count": null,
   "metadata": {},
   "outputs": [],
   "source": [
    "import torch\n",
    "from transformers import BlipProcessor, BlipForConditionalGeneration\n",
    "from PIL import Image\n",
    "import matplotlib.pyplot as plt\n",
    "import numpy as np\n",
    "import cv2\n",
    "from google.colab import drive\n",
    "\n",
    "\n",
    "model_path = \"blip_model_trained1\"\n",
    "model = BlipForConditionalGeneration.from_pretrained(model_path)\n",
    "processor = BlipProcessor.from_pretrained(model_path)\n",
    "\n",
    "device = \"cuda\" if torch.cuda.is_available() else \"cpu\"\n",
    "model.to(device) \n"
   ]
  },
  {
   "cell_type": "code",
   "execution_count": null,
   "metadata": {},
   "outputs": [],
   "source": [
    "def get_attention_map(image_path,dummy_text= \"a chest x-ray\"):\n",
    "    \n",
    "    image = Image.open(image_path).convert(\"RGB\")\n",
    "    inputs = processor(images=image, text=dummy_text, return_tensors=\"pt\") \n",
    "    inputs = inputs.to(device) \n",
    "    \n",
    "    with torch.no_grad():\n",
    "        outputs = model(**inputs, output_attentions=True)\n",
    "        attentions = outputs.attentions  \n",
    "\n",
    "    last_attention = attentions[-1]  \n",
    "    avg_attention = last_attention.mean(dim=1) \n",
    "    image_attention = avg_attention[0, 1:, :].mean(dim=0)  \n",
    "\n",
    "    attention_map = image_attention.cpu().numpy()\n",
    "    attention_map_resized = cv2.resize(\n",
    "        attention_map, (image.size[0], image.size[1])\n",
    "    )\n",
    "\n",
    "    return image, attention_map_resized \n",
    "\n",
    "\n",
    "def overlay_attention(image, attention_map):\n",
    "\n",
    "    attention_map = (attention_map - attention_map.min()) / (attention_map.max() - attention_map.min())\n",
    "    attention_colormap = cv2.applyColorMap((attention_map * 255).astype(np.uint8), cv2.COLORMAP_JET)\n",
    "    attention_colormap = cv2.cvtColor(attention_colormap, cv2.COLOR_BGR2RGB)\n",
    "\n",
    "    image_np = np.array(image)\n",
    "    overlay = cv2.addWeighted(image_np, 0.6, attention_colormap, 0.4, 0)\n",
    "\n",
    "    return overlay"
   ]
  },
  {
   "cell_type": "code",
   "execution_count": null,
   "metadata": {},
   "outputs": [],
   "source": [
    "example_image_path = \"input.jpg\"\n",
    "example_text=\"a chest x-ray\"\n",
    "\n",
    "\n",
    "image, attention_map = get_attention_map(example_image_path,example_text)\n",
    "overlay_image = overlay_attention(image, attention_map)"
   ]
  },
  {
   "cell_type": "code",
   "execution_count": null,
   "metadata": {},
   "outputs": [],
   "source": [
    "plt.figure(figsize=(10, 10))\n",
    "plt.imshow(overlay_image)\n",
    "plt.axis(\"off\")\n",
    "plt.title(\"Attention Map Overlay\", fontsize=20)\n",
    "plt.show()"
   ]
  }
 ],
 "metadata": {
  "kernelspec": {
   "display_name": "diff",
   "language": "python",
   "name": "python3"
  },
  "language_info": {
   "name": "python",
   "version": "3.10.6"
  }
 },
 "nbformat": 4,
 "nbformat_minor": 2
}
